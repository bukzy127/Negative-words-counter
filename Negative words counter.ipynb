{
 "cells": [
  {
   "cell_type": "code",
   "execution_count": null,
   "metadata": {},
   "outputs": [],
   "source": [
    "# WEEK 1 ASSIGNMENT\n",
    "'''\n",
    "Write a program that takes user input as text and counts the occurrence of negative words \n",
    "such as \"bad,\" \"not good,\" and \"poor\" in the text.  \n",
    "•  \n",
    "Calculate the percentage of negative words by dividing the count of negative words \n",
    "by the total number  of words in the text. If the percentage of negative words  is \n",
    "above a certain threshold (e.g., 5%), mark the feedback as negative; otherwise, mark \n",
    "it as positive.  \n",
    "• Also  Print  in  the  console  the  number  of  occurrences  of  each  negative  words \n",
    "respectively \n",
    " \n",
    "Due date: 5:00 PM WAT, July 28, 2023. \n",
    "'''\n",
    "\n",
    "#takes a usser input\n",
    "usser_input = input(\"please input a text with negative character: \")\n",
    "n = [\"bad\", \"notgood\", \"poor\"] #negative words\n",
    "\n",
    "usser_input2 = usser_input.replace(\"not good\", \"notgood\") #remove space in btwn \"not good\"\n",
    "count = 0 \n",
    "bad = 0\n",
    "not_good = 0\n",
    "poor = 0\n",
    "#counts the occurrence of negative words\n",
    "for i in usser_input2.split():\n",
    "    if i in n:\n",
    "        count += 1\n",
    "# number  of  occurrences  of  each  negative  words respectively \n",
    "    if \"bad\" in i:\n",
    "        bad += 1\n",
    "    if \"notgood\" in i:\n",
    "        not_good += 1\n",
    "    if \"poor\" in i:\n",
    "        poor += 1\n",
    "\n",
    "\n",
    "#percentage of negative words\n",
    "percentage_ = count / (len(usser_input.split()) + 1) * 100\n",
    "print(f'the percentage of negative word is: {round(percentage_)}%')\n",
    "\n",
    "if percentage_ > 5:\n",
    "    print(\"Negative\")\n",
    "else:\n",
    "    print(\"Postive\")\n",
    "    \n",
    "print(f'The number of negative words occurence is: {count}')\n",
    "print(f'Bad occured: {bad} times, Not good occured: {not_good} times, Poor occured: {poor} times,')"
   ]
  }
 ],
 "metadata": {
  "kernelspec": {
   "display_name": "Python 3",
   "language": "python",
   "name": "python3"
  },
  "language_info": {
   "codemirror_mode": {
    "name": "ipython",
    "version": 3
   },
   "file_extension": ".py",
   "mimetype": "text/x-python",
   "name": "python",
   "nbconvert_exporter": "python",
   "pygments_lexer": "ipython3",
   "version": "3.8.5"
  }
 },
 "nbformat": 4,
 "nbformat_minor": 4
}
